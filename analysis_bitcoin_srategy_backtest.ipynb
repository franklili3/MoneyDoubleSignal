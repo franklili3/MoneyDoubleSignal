{
 "cells": [
  {
   "cell_type": "markdown",
   "metadata": {},
   "source": [
    "### 分析bigquant的比特币策略回测结果"
   ]
  },
  {
   "cell_type": "code",
   "execution_count": null,
   "metadata": {},
   "outputs": [
    {
     "ename": "",
     "evalue": "",
     "output_type": "error",
     "traceback": [
      "\u001b[1;31mThe kernel failed to start as the Python Environment 'MONEYDOUBLESIGNAL (Python 3.12.4)' is no longer available. Consider selecting another kernel or refreshing the list of Python Environments."
     ]
    }
   ],
   "source": [
    "# %%\n",
    "\n",
    "import pyfolio as pf\n",
    "import pandas as pd\n",
    "import matplotlib.pyplot as plt\n",
    "import numpy as np\n",
    "import json\n",
    "import warnings\n",
    "warnings.filterwarnings('ignore')\n",
    "bitcoin_strategy_backtest = pd.read_csv('bitcoin_strategy_backtest.csv', index_col=0, parse_dates=True)\n",
    "returns = bitcoin_strategy_backtest['returns']\n",
    "# print(returns.head())\n",
    "print(pf.__version__)\n",
    "#plt.show()\n",
    "\n",
    "bitcoin_strategy_backtest['positions'] = bitcoin_strategy_backtest['positions'].apply(lambda x: x.replace(\"'\", '\"'))\n",
    "bitcoin_strategy_backtest['transactions'] = bitcoin_strategy_backtest['transactions'].apply(lambda x: x.replace(\"'\", '\"'))\n",
    "bitcoin_strategy_backtest['transactions'] = bitcoin_strategy_backtest['transactions'].apply(lambda x: x.replace(\"datetime.\", '\"datetime.'))\n",
    "bitcoin_strategy_backtest['transactions'] = bitcoin_strategy_backtest['transactions'].apply(lambda x: x.replace(\")\", ')\"'))\n",
    "positions = bitcoin_strategy_backtest[['positions', 'ending_cash']]\n",
    "position_data = json.loads(positions.iloc[1, 0])\n",
    "symbol = position_data[0]['symbol']\n",
    "positions_edited = pd.DataFrame(0, index = positions.index, columns = [[symbol, 'cash']])\n",
    "for index, row in positions.iterrows():\n",
    "    position_data = json.loads(row['positions'])\n",
    "    if position_data:\n",
    "        positions_edited.loc[index, symbol] = position_data[0]['market_value']   \n",
    "    positions_edited.loc[index, 'cash'] = int(row['ending_cash'])\n",
    "#print(positions_edited.head()) \n",
    "\n",
    "transactions = bitcoin_strategy_backtest[['transactions']]\n",
    "# print('transactions: ', transactions.head())\n",
    "\n",
    "transactions_edited = pd.DataFrame(np.nan, index = transactions.index, columns = [['amount', 'price', 'symbol']])\n",
    "# print('transactions_edited: ', transactions_edited.head())\n",
    "\n",
    "transactions_edited['symbol'] = transactions_edited['symbol'].astype(str)\n",
    "for index, row in transactions.iterrows():\n",
    "    transactions_data = json.loads(row['transactions'])\n",
    "    if transactions_data:\n",
    "        transactions_edited.loc[index, 'price'] = float(transactions_data[0]['price'])   \n",
    "        transactions_edited.loc[index, 'amount'] = transactions_data[0]['amount']           \n",
    "        transactions_edited.loc[index, 'symbol'] = symbol\n",
    "    else:\n",
    "        transactions_edited.loc[index, 'price'] = 0\n",
    "        transactions_edited.loc[index, 'amount'] = 0\n",
    "        transactions_edited.loc[index, 'symbol'] = symbol   \n",
    "# transactions_edited = transactions_edited.dropna()\n",
    "transactions_edited = transactions_edited[(transactions_edited['amount'] != 0) & (~transactions_edited['price'].isna())]\n",
    "print('returns: ', returns.head())\n",
    "print('positions_edited: ', positions_edited.head())\n",
    "print('transactions_edited: ', transactions_edited.head())\n",
    "# pf.create_returns_tear_sheet(returns,\n",
    "#                          positions=positions_edited,\n",
    "#                          transactions=transactions_edited)\n",
    "#                          slippage=1)\n",
    "# help(pf.create_full_tear_sheet)\n",
    "pf.create_full_tear_sheet(returns,\n",
    "                         positions=positions_edited,\n",
    "                        transactions=transactions_edited,\n",
    "                        round_trips=True,\n",
    "                        bootstrap=False,\n",
    "                        estimate_intraday=False,\n",
    "                        slippage=10)\n",
    "plt.show()"
   ]
  },
  {
   "cell_type": "markdown",
   "metadata": {},
   "source": [
    "### 分析freqtrade的回测结果"
   ]
  },
  {
   "cell_type": "code",
   "execution_count": 1,
   "metadata": {},
   "outputs": [
    {
     "ename": "ModuleNotFoundError",
     "evalue": "No module named 'pyfolio'",
     "output_type": "error",
     "traceback": [
      "\u001b[31m---------------------------------------------------------------------------\u001b[39m",
      "\u001b[31mModuleNotFoundError\u001b[39m                       Traceback (most recent call last)",
      "\u001b[36mCell\u001b[39m\u001b[36m \u001b[39m\u001b[32mIn[1]\u001b[39m\u001b[32m, line 3\u001b[39m\n\u001b[32m      1\u001b[39m \u001b[38;5;66;03m# %%\u001b[39;00m\n\u001b[32m----> \u001b[39m\u001b[32m3\u001b[39m \u001b[38;5;28;01mimport\u001b[39;00m\u001b[38;5;250m \u001b[39m\u001b[34;01mpyfolio\u001b[39;00m\u001b[38;5;250m \u001b[39m\u001b[38;5;28;01mas\u001b[39;00m\u001b[38;5;250m \u001b[39m\u001b[34;01mpf\u001b[39;00m\n\u001b[32m      4\u001b[39m \u001b[38;5;28;01mimport\u001b[39;00m\u001b[38;5;250m \u001b[39m\u001b[34;01mpandas\u001b[39;00m\u001b[38;5;250m \u001b[39m\u001b[38;5;28;01mas\u001b[39;00m\u001b[38;5;250m \u001b[39m\u001b[34;01mpd\u001b[39;00m\n\u001b[32m      5\u001b[39m \u001b[38;5;28;01mimport\u001b[39;00m\u001b[38;5;250m \u001b[39m\u001b[34;01mmatplotlib\u001b[39;00m\u001b[34;01m.\u001b[39;00m\u001b[34;01mpyplot\u001b[39;00m\u001b[38;5;250m \u001b[39m\u001b[38;5;28;01mas\u001b[39;00m\u001b[38;5;250m \u001b[39m\u001b[34;01mplt\u001b[39;00m\n",
      "\u001b[31mModuleNotFoundError\u001b[39m: No module named 'pyfolio'"
     ]
    }
   ],
   "source": [
    "# %%\n",
    "\n",
    "import pyfolio as pf\n",
    "import pandas as pd\n",
    "import matplotlib.pyplot as plt\n",
    "import numpy as np\n",
    "import json\n",
    "import warnings\n",
    "warnings.filterwarnings('ignore')\n",
    "returns_df = pd.read_csv('returns.csv', parse_dates=True)\n",
    "returns_df = returns_df.dropna()\n",
    "returns_df['date'] = pd.to_datetime(returns_df['date'])\n",
    "returns_df.set_index('date', inplace=True)\n",
    "returns = returns_df['returns']\n",
    "# 严格去除 returns 中的 NaN\n",
    "returns = returns.dropna()\n",
    "# 确保 index 为 datetime 类型，且已排序\n",
    "returns.index = pd.to_datetime(returns.index)\n",
    "returns = returns.sort_index()\n",
    "# 去除重复 index（如有）\n",
    "returns = returns[~returns.index.duplicated(keep='first')]\n",
    "# 检查是否还有 NaT\n",
    "print(returns.index[returns.index.isna()])\n",
    "print(returns.isna().sum())\n",
    "positions = pd.read_csv('positions.csv', parse_dates=True)\n",
    "\n",
    "positions['date'] = pd.to_datetime(positions['date'])\n",
    "positions.set_index('date', inplace=True)\n",
    "\n",
    "transactions = pd.read_csv('transactions.csv', parse_dates=True)\n",
    "transactions['date'] = pd.to_datetime(transactions['date'])\n",
    "transactions.set_index('date', inplace=True)\n",
    "print(pf.__version__)\n",
    "#print(returns.dtypes)\n",
    "#print(positions.dtypes)\n",
    "#print(transactions.dtypes)\n",
    "#print('returns: ', returns.head())\n",
    "#print('returns: ', returns.tail())\n",
    "print(returns.head(10))\n",
    "print(returns.tail(10))\n",
    "print(returns.index)\n",
    "print(\"唯一值：\", returns.unique())\n",
    "print(\"非零天数：\", (returns != 0).sum())\n",
    "print(\"全部为零？\", (returns == 0).all())\n",
    "print(\"最大值：\", returns.max())\n",
    "print(\"最小值：\", returns.min())\n",
    "#print('positions: ', positions.head())\n",
    "#print('positions: ', positions.tail())\n",
    "#print('transactions: ', transactions.head())\n",
    "#print('transactions: ', transactions.tail())\n",
    "pf.create_returns_tear_sheet(returns,\n",
    "                          positions=positions,\n",
    "                          transactions=transactions)\n",
    "#                          slippage=1)\n",
    "# help(pf.create_full_tear_sheet)\n",
    "#pf.create_full_tear_sheet(returns,\n",
    "#                         positions=positions,\n",
    "#                        transactions=transactions,\n",
    "#                        round_trips=True,\n",
    "#                        bootstrap=False,\n",
    "#                        estimate_intraday=False,\n",
    "#                        slippage=10)\n",
    "plt.show()"
   ]
  },
  {
   "cell_type": "code",
   "execution_count": null,
   "metadata": {},
   "outputs": [],
   "source": []
  }
 ],
 "metadata": {
  "kernelspec": {
   "display_name": "Python 3 (ipykernel)",
   "language": "python",
   "name": "python3"
  },
  "language_info": {
   "codemirror_mode": {
    "name": "ipython",
    "version": 3
   },
   "file_extension": ".py",
   "mimetype": "text/x-python",
   "name": "python",
   "nbconvert_exporter": "python",
   "pygments_lexer": "ipython3",
   "version": "3.13.5"
  }
 },
 "nbformat": 4,
 "nbformat_minor": 4
}
